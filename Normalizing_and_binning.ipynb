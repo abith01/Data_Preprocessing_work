{
 "cells": [
  {
   "cell_type": "markdown",
   "metadata": {},
   "source": [
    "IMPORTING THE FILE"
   ]
  },
  {
   "cell_type": "code",
   "execution_count": 7,
   "metadata": {},
   "outputs": [
    {
     "data": {
      "text/html": [
       "<div>\n",
       "<style scoped>\n",
       "    .dataframe tbody tr th:only-of-type {\n",
       "        vertical-align: middle;\n",
       "    }\n",
       "\n",
       "    .dataframe tbody tr th {\n",
       "        vertical-align: top;\n",
       "    }\n",
       "\n",
       "    .dataframe thead th {\n",
       "        text-align: right;\n",
       "    }\n",
       "</style>\n",
       "<table border=\"1\" class=\"dataframe\">\n",
       "  <thead>\n",
       "    <tr style=\"text-align: right;\">\n",
       "      <th></th>\n",
       "      <th>mpg</th>\n",
       "      <th>cylinders</th>\n",
       "      <th>displacement</th>\n",
       "      <th>horsepower</th>\n",
       "      <th>weight</th>\n",
       "      <th>acceleration</th>\n",
       "      <th>model_year</th>\n",
       "      <th>origin</th>\n",
       "      <th>name</th>\n",
       "    </tr>\n",
       "  </thead>\n",
       "  <tbody>\n",
       "    <tr>\n",
       "      <th>0</th>\n",
       "      <td>18.0</td>\n",
       "      <td>8</td>\n",
       "      <td>307.0</td>\n",
       "      <td>130.0</td>\n",
       "      <td>3504</td>\n",
       "      <td>12.0</td>\n",
       "      <td>70</td>\n",
       "      <td>usa</td>\n",
       "      <td>chevrolet chevelle malibu</td>\n",
       "    </tr>\n",
       "    <tr>\n",
       "      <th>1</th>\n",
       "      <td>15.0</td>\n",
       "      <td>8</td>\n",
       "      <td>350.0</td>\n",
       "      <td>165.0</td>\n",
       "      <td>3693</td>\n",
       "      <td>11.5</td>\n",
       "      <td>70</td>\n",
       "      <td>usa</td>\n",
       "      <td>buick skylark 320</td>\n",
       "    </tr>\n",
       "    <tr>\n",
       "      <th>2</th>\n",
       "      <td>18.0</td>\n",
       "      <td>8</td>\n",
       "      <td>318.0</td>\n",
       "      <td>150.0</td>\n",
       "      <td>3436</td>\n",
       "      <td>11.0</td>\n",
       "      <td>70</td>\n",
       "      <td>usa</td>\n",
       "      <td>plymouth satellite</td>\n",
       "    </tr>\n",
       "    <tr>\n",
       "      <th>3</th>\n",
       "      <td>16.0</td>\n",
       "      <td>8</td>\n",
       "      <td>304.0</td>\n",
       "      <td>150.0</td>\n",
       "      <td>3433</td>\n",
       "      <td>12.0</td>\n",
       "      <td>70</td>\n",
       "      <td>usa</td>\n",
       "      <td>amc rebel sst</td>\n",
       "    </tr>\n",
       "    <tr>\n",
       "      <th>4</th>\n",
       "      <td>17.0</td>\n",
       "      <td>8</td>\n",
       "      <td>302.0</td>\n",
       "      <td>140.0</td>\n",
       "      <td>3449</td>\n",
       "      <td>10.5</td>\n",
       "      <td>70</td>\n",
       "      <td>usa</td>\n",
       "      <td>ford torino</td>\n",
       "    </tr>\n",
       "    <tr>\n",
       "      <th>...</th>\n",
       "      <td>...</td>\n",
       "      <td>...</td>\n",
       "      <td>...</td>\n",
       "      <td>...</td>\n",
       "      <td>...</td>\n",
       "      <td>...</td>\n",
       "      <td>...</td>\n",
       "      <td>...</td>\n",
       "      <td>...</td>\n",
       "    </tr>\n",
       "    <tr>\n",
       "      <th>393</th>\n",
       "      <td>27.0</td>\n",
       "      <td>4</td>\n",
       "      <td>140.0</td>\n",
       "      <td>86.0</td>\n",
       "      <td>2790</td>\n",
       "      <td>15.6</td>\n",
       "      <td>82</td>\n",
       "      <td>usa</td>\n",
       "      <td>ford mustang gl</td>\n",
       "    </tr>\n",
       "    <tr>\n",
       "      <th>394</th>\n",
       "      <td>44.0</td>\n",
       "      <td>4</td>\n",
       "      <td>97.0</td>\n",
       "      <td>52.0</td>\n",
       "      <td>2130</td>\n",
       "      <td>24.6</td>\n",
       "      <td>82</td>\n",
       "      <td>europe</td>\n",
       "      <td>vw pickup</td>\n",
       "    </tr>\n",
       "    <tr>\n",
       "      <th>395</th>\n",
       "      <td>32.0</td>\n",
       "      <td>4</td>\n",
       "      <td>135.0</td>\n",
       "      <td>84.0</td>\n",
       "      <td>2295</td>\n",
       "      <td>11.6</td>\n",
       "      <td>82</td>\n",
       "      <td>usa</td>\n",
       "      <td>dodge rampage</td>\n",
       "    </tr>\n",
       "    <tr>\n",
       "      <th>396</th>\n",
       "      <td>28.0</td>\n",
       "      <td>4</td>\n",
       "      <td>120.0</td>\n",
       "      <td>79.0</td>\n",
       "      <td>2625</td>\n",
       "      <td>18.6</td>\n",
       "      <td>82</td>\n",
       "      <td>usa</td>\n",
       "      <td>ford ranger</td>\n",
       "    </tr>\n",
       "    <tr>\n",
       "      <th>397</th>\n",
       "      <td>31.0</td>\n",
       "      <td>4</td>\n",
       "      <td>119.0</td>\n",
       "      <td>82.0</td>\n",
       "      <td>2720</td>\n",
       "      <td>19.4</td>\n",
       "      <td>82</td>\n",
       "      <td>usa</td>\n",
       "      <td>chevy s-10</td>\n",
       "    </tr>\n",
       "  </tbody>\n",
       "</table>\n",
       "<p>398 rows × 9 columns</p>\n",
       "</div>"
      ],
      "text/plain": [
       "      mpg  cylinders  displacement  horsepower  weight  acceleration  \\\n",
       "0    18.0          8         307.0       130.0    3504          12.0   \n",
       "1    15.0          8         350.0       165.0    3693          11.5   \n",
       "2    18.0          8         318.0       150.0    3436          11.0   \n",
       "3    16.0          8         304.0       150.0    3433          12.0   \n",
       "4    17.0          8         302.0       140.0    3449          10.5   \n",
       "..    ...        ...           ...         ...     ...           ...   \n",
       "393  27.0          4         140.0        86.0    2790          15.6   \n",
       "394  44.0          4          97.0        52.0    2130          24.6   \n",
       "395  32.0          4         135.0        84.0    2295          11.6   \n",
       "396  28.0          4         120.0        79.0    2625          18.6   \n",
       "397  31.0          4         119.0        82.0    2720          19.4   \n",
       "\n",
       "     model_year  origin                       name  \n",
       "0            70     usa  chevrolet chevelle malibu  \n",
       "1            70     usa          buick skylark 320  \n",
       "2            70     usa         plymouth satellite  \n",
       "3            70     usa              amc rebel sst  \n",
       "4            70     usa                ford torino  \n",
       "..          ...     ...                        ...  \n",
       "393          82     usa            ford mustang gl  \n",
       "394          82  europe                  vw pickup  \n",
       "395          82     usa              dodge rampage  \n",
       "396          82     usa                ford ranger  \n",
       "397          82     usa                 chevy s-10  \n",
       "\n",
       "[398 rows x 9 columns]"
      ]
     },
     "execution_count": 7,
     "metadata": {},
     "output_type": "execute_result"
    }
   ],
   "source": [
    "import pandas as pd\n",
    "df=pd.read_csv(r\"C:\\Users\\arunj\\Desktop\\VIT AP\\FDS LAB\\upload_c57a05fe-0da5-470b-adbe-6d0ddab7609c.csv\")\n",
    "df"
   ]
  },
  {
   "cell_type": "markdown",
   "metadata": {},
   "source": [
    "FINDING THE NULL VALUE"
   ]
  },
  {
   "cell_type": "code",
   "execution_count": 9,
   "metadata": {},
   "outputs": [
    {
     "data": {
      "text/plain": [
       "mpg             0\n",
       "cylinders       0\n",
       "displacement    0\n",
       "horsepower      6\n",
       "weight          0\n",
       "acceleration    0\n",
       "model_year      0\n",
       "origin          0\n",
       "name            0\n",
       "dtype: int64"
      ]
     },
     "execution_count": 9,
     "metadata": {},
     "output_type": "execute_result"
    }
   ],
   "source": [
    "df.isnull().sum()"
   ]
  },
  {
   "cell_type": "markdown",
   "metadata": {},
   "source": [
    "# NORMALIZATION"
   ]
  },
  {
   "cell_type": "markdown",
   "metadata": {},
   "source": [
    "TYPE 1: SIMPLE FEATURE SCALING"
   ]
  },
  {
   "cell_type": "code",
   "execution_count": 12,
   "metadata": {},
   "outputs": [
    {
     "data": {
      "text/plain": [
       "0      0.386266\n",
       "1      0.321888\n",
       "2      0.386266\n",
       "3      0.343348\n",
       "4      0.364807\n",
       "         ...   \n",
       "393    0.579399\n",
       "394    0.944206\n",
       "395    0.686695\n",
       "396    0.600858\n",
       "397    0.665236\n",
       "Name: mpg, Length: 398, dtype: float64"
      ]
     },
     "execution_count": 12,
     "metadata": {},
     "output_type": "execute_result"
    }
   ],
   "source": [
    "#column mpg\n",
    "a=df[\"mpg\"]=df[\"mpg\"]/df[\"mpg\"].max()\n",
    "a"
   ]
  },
  {
   "cell_type": "code",
   "execution_count": 15,
   "metadata": {},
   "outputs": [
    {
     "data": {
      "text/plain": [
       "0      0.386266\n",
       "1      0.321888\n",
       "2      0.386266\n",
       "3      0.343348\n",
       "4      0.364807\n",
       "         ...   \n",
       "393    0.579399\n",
       "394    0.944206\n",
       "395    0.686695\n",
       "396    0.600858\n",
       "397    0.665236\n",
       "Name: displacement, Length: 398, dtype: float64"
      ]
     },
     "execution_count": 15,
     "metadata": {},
     "output_type": "execute_result"
    }
   ],
   "source": [
    "#column displacement\n",
    "b=df[\"displacement\"]=df[\"displacement\"]/df[\"displacement\"].max()\n",
    "b"
   ]
  },
  {
   "cell_type": "code",
   "execution_count": 16,
   "metadata": {},
   "outputs": [
    {
     "data": {
      "text/plain": [
       "0      0.565217\n",
       "1      0.717391\n",
       "2      0.652174\n",
       "3      0.652174\n",
       "4      0.608696\n",
       "         ...   \n",
       "393    0.373913\n",
       "394    0.226087\n",
       "395    0.365217\n",
       "396    0.343478\n",
       "397    0.356522\n",
       "Name: horsepower, Length: 398, dtype: float64"
      ]
     },
     "execution_count": 16,
     "metadata": {},
     "output_type": "execute_result"
    }
   ],
   "source": [
    "#column horsepower\n",
    "c=df[\"horsepower\"]=df[\"horsepower\"]/df[\"horsepower\"].max()\n",
    "c"
   ]
  },
  {
   "cell_type": "code",
   "execution_count": 17,
   "metadata": {},
   "outputs": [
    {
     "data": {
      "text/plain": [
       "0      0.681712\n",
       "1      0.718482\n",
       "2      0.668482\n",
       "3      0.667899\n",
       "4      0.671012\n",
       "         ...   \n",
       "393    0.542802\n",
       "394    0.414397\n",
       "395    0.446498\n",
       "396    0.510700\n",
       "397    0.529183\n",
       "Name: weight, Length: 398, dtype: float64"
      ]
     },
     "execution_count": 17,
     "metadata": {},
     "output_type": "execute_result"
    }
   ],
   "source": [
    "#column weight\n",
    "d=df[\"weight\"]=df[\"weight\"]/df[\"weight\"].max()\n",
    "d"
   ]
  },
  {
   "cell_type": "code",
   "execution_count": 18,
   "metadata": {},
   "outputs": [
    {
     "data": {
      "text/plain": [
       "0      0.483871\n",
       "1      0.463710\n",
       "2      0.443548\n",
       "3      0.483871\n",
       "4      0.423387\n",
       "         ...   \n",
       "393    0.629032\n",
       "394    0.991935\n",
       "395    0.467742\n",
       "396    0.750000\n",
       "397    0.782258\n",
       "Name: acceleration, Length: 398, dtype: float64"
      ]
     },
     "execution_count": 18,
     "metadata": {},
     "output_type": "execute_result"
    }
   ],
   "source": [
    "#column acceleration\n",
    "e=df[\"acceleration\"]=df[\"acceleration\"]/df[\"acceleration\"].max()\n",
    "e"
   ]
  },
  {
   "cell_type": "markdown",
   "metadata": {},
   "source": [
    "TYPE 2: MIN-MAX"
   ]
  },
  {
   "cell_type": "code",
   "execution_count": 20,
   "metadata": {},
   "outputs": [
    {
     "data": {
      "text/plain": [
       "0      0.239362\n",
       "1      0.159574\n",
       "2      0.239362\n",
       "3      0.186170\n",
       "4      0.212766\n",
       "         ...   \n",
       "393    0.478723\n",
       "394    0.930851\n",
       "395    0.611702\n",
       "396    0.505319\n",
       "397    0.585106\n",
       "Name: mpg, Length: 398, dtype: float64"
      ]
     },
     "execution_count": 20,
     "metadata": {},
     "output_type": "execute_result"
    }
   ],
   "source": [
    "#COLUMN MPG\n",
    "f=df[\"mpg\"]=(df[\"mpg\"]-df[\"mpg\"].min())/(df[\"mpg\"].max()-df[\"mpg\"].min())\n",
    "f"
   ]
  },
  {
   "cell_type": "code",
   "execution_count": 21,
   "metadata": {},
   "outputs": [
    {
     "data": {
      "text/plain": [
       "0      0.239362\n",
       "1      0.159574\n",
       "2      0.239362\n",
       "3      0.186170\n",
       "4      0.212766\n",
       "         ...   \n",
       "393    0.478723\n",
       "394    0.930851\n",
       "395    0.611702\n",
       "396    0.505319\n",
       "397    0.585106\n",
       "Name: displacement, Length: 398, dtype: float64"
      ]
     },
     "execution_count": 21,
     "metadata": {},
     "output_type": "execute_result"
    }
   ],
   "source": [
    "#COLUMN displacement\n",
    "g=df[\"displacement\"]=(df[\"displacement\"]-df[\"displacement\"].min())/(df[\"displacement\"].max()-df[\"displacement\"].min())\n",
    "g"
   ]
  },
  {
   "cell_type": "code",
   "execution_count": 22,
   "metadata": {},
   "outputs": [
    {
     "data": {
      "text/plain": [
       "0      0.456522\n",
       "1      0.646739\n",
       "2      0.565217\n",
       "3      0.565217\n",
       "4      0.510870\n",
       "         ...   \n",
       "393    0.217391\n",
       "394    0.032609\n",
       "395    0.206522\n",
       "396    0.179348\n",
       "397    0.195652\n",
       "Name: horsepower, Length: 398, dtype: float64"
      ]
     },
     "execution_count": 22,
     "metadata": {},
     "output_type": "execute_result"
    }
   ],
   "source": [
    "#COLUMN horsepower\n",
    "h=df[\"horsepower\"]=(df[\"horsepower\"]-df[\"horsepower\"].min())/(df[\"horsepower\"].max()-df[\"horsepower\"].min())\n",
    "h"
   ]
  },
  {
   "cell_type": "code",
   "execution_count": 23,
   "metadata": {},
   "outputs": [
    {
     "data": {
      "text/plain": [
       "0      0.536150\n",
       "1      0.589736\n",
       "2      0.516870\n",
       "3      0.516019\n",
       "4      0.520556\n",
       "         ...   \n",
       "393    0.333711\n",
       "394    0.146583\n",
       "395    0.193365\n",
       "396    0.286929\n",
       "397    0.313864\n",
       "Name: weight, Length: 398, dtype: float64"
      ]
     },
     "execution_count": 23,
     "metadata": {},
     "output_type": "execute_result"
    }
   ],
   "source": [
    "#COLUMN weight\n",
    "i=df[\"weight\"]=(df[\"weight\"]-df[\"weight\"].min())/(df[\"weight\"].max()-df[\"weight\"].min())\n",
    "i"
   ]
  },
  {
   "cell_type": "code",
   "execution_count": 24,
   "metadata": {},
   "outputs": [
    {
     "data": {
      "text/plain": [
       "0      0.238095\n",
       "1      0.208333\n",
       "2      0.178571\n",
       "3      0.238095\n",
       "4      0.148810\n",
       "         ...   \n",
       "393    0.452381\n",
       "394    0.988095\n",
       "395    0.214286\n",
       "396    0.630952\n",
       "397    0.678571\n",
       "Name: acceleration, Length: 398, dtype: float64"
      ]
     },
     "execution_count": 24,
     "metadata": {},
     "output_type": "execute_result"
    }
   ],
   "source": [
    "#COLUMN acceleration\n",
    "j=df[\"acceleration\"]=(df[\"acceleration\"]-df[\"acceleration\"].min())/(df[\"acceleration\"].max()-df[\"acceleration\"].min())\n",
    "j"
   ]
  },
  {
   "cell_type": "markdown",
   "metadata": {},
   "source": [
    "TYPE 3: Z-SCORE"
   ]
  },
  {
   "cell_type": "code",
   "execution_count": 26,
   "metadata": {},
   "outputs": [
    {
     "data": {
      "text/plain": [
       "0     -0.705551\n",
       "1     -1.089379\n",
       "2     -0.705551\n",
       "3     -0.961437\n",
       "4     -0.833494\n",
       "         ...   \n",
       "393    0.445936\n",
       "394    2.620966\n",
       "395    1.085650\n",
       "396    0.573879\n",
       "397    0.957708\n",
       "Name: mpg, Length: 398, dtype: float64"
      ]
     },
     "execution_count": 26,
     "metadata": {},
     "output_type": "execute_result"
    }
   ],
   "source": [
    "#COLUMN MPG\n",
    "q=df[\"mpg\"]=(df[\"mpg\"]-df[\"mpg\"].mean())/(df[\"mpg\"].std())\n",
    "q"
   ]
  },
  {
   "cell_type": "code",
   "execution_count": 27,
   "metadata": {},
   "outputs": [
    {
     "data": {
      "text/plain": [
       "0     -0.705551\n",
       "1     -1.089379\n",
       "2     -0.705551\n",
       "3     -0.961437\n",
       "4     -0.833494\n",
       "         ...   \n",
       "393    0.445936\n",
       "394    2.620966\n",
       "395    1.085650\n",
       "396    0.573879\n",
       "397    0.957708\n",
       "Name: displacement, Length: 398, dtype: float64"
      ]
     },
     "execution_count": 27,
     "metadata": {},
     "output_type": "execute_result"
    }
   ],
   "source": [
    "#COLUMN displacement\n",
    "r=df[\"displacement\"]=(df[\"displacement\"]-df[\"displacement\"].mean())/(df[\"displacement\"].std())\n",
    "r"
   ]
  },
  {
   "cell_type": "code",
   "execution_count": 28,
   "metadata": {},
   "outputs": [
    {
     "data": {
      "text/plain": [
       "0      0.630077\n",
       "1      0.853259\n",
       "2      0.549778\n",
       "3      0.546236\n",
       "4      0.565130\n",
       "         ...   \n",
       "393   -0.213056\n",
       "394   -0.992422\n",
       "395   -0.797581\n",
       "396   -0.407897\n",
       "397   -0.295716\n",
       "Name: weight, Length: 398, dtype: float64"
      ]
     },
     "execution_count": 28,
     "metadata": {},
     "output_type": "execute_result"
    }
   ],
   "source": [
    "#COLUMN weight\n",
    "s=df[\"weight\"]=(df[\"weight\"]-df[\"weight\"].mean())/(df[\"weight\"].std())\n",
    "s"
   ]
  },
  {
   "cell_type": "code",
   "execution_count": 29,
   "metadata": {},
   "outputs": [
    {
     "data": {
      "text/plain": [
       "0      0.663285\n",
       "1      1.572585\n",
       "2      1.182885\n",
       "3      1.182885\n",
       "4      0.923085\n",
       "         ...   \n",
       "393   -0.479835\n",
       "394   -1.363154\n",
       "395   -0.531795\n",
       "396   -0.661694\n",
       "397   -0.583754\n",
       "Name: horsepower, Length: 398, dtype: float64"
      ]
     },
     "execution_count": 29,
     "metadata": {},
     "output_type": "execute_result"
    }
   ],
   "source": [
    "#COLUMN horsepower\n",
    "t=df[\"horsepower\"]=(df[\"horsepower\"]-df[\"horsepower\"].mean())/(df[\"horsepower\"].std())\n",
    "t"
   ]
  },
  {
   "cell_type": "code",
   "execution_count": 30,
   "metadata": {},
   "outputs": [
    {
     "data": {
      "text/plain": [
       "0     -1.293870\n",
       "1     -1.475181\n",
       "2     -1.656492\n",
       "3     -1.293870\n",
       "4     -1.837804\n",
       "         ...   \n",
       "393    0.011571\n",
       "394    3.275173\n",
       "395   -1.438919\n",
       "396    1.099439\n",
       "397    1.389537\n",
       "Name: acceleration, Length: 398, dtype: float64"
      ]
     },
     "execution_count": 30,
     "metadata": {},
     "output_type": "execute_result"
    }
   ],
   "source": [
    "#COLUMN acceleration\n",
    "u=df[\"acceleration\"]=(df[\"acceleration\"]-df[\"acceleration\"].mean())/(df[\"acceleration\"].std())\n",
    "u"
   ]
  },
  {
   "cell_type": "markdown",
   "metadata": {},
   "source": [
    "# BINNING"
   ]
  },
  {
   "cell_type": "code",
   "execution_count": 31,
   "metadata": {},
   "outputs": [
    {
     "data": {
      "text/html": [
       "<div>\n",
       "<style scoped>\n",
       "    .dataframe tbody tr th:only-of-type {\n",
       "        vertical-align: middle;\n",
       "    }\n",
       "\n",
       "    .dataframe tbody tr th {\n",
       "        vertical-align: top;\n",
       "    }\n",
       "\n",
       "    .dataframe thead th {\n",
       "        text-align: right;\n",
       "    }\n",
       "</style>\n",
       "<table border=\"1\" class=\"dataframe\">\n",
       "  <thead>\n",
       "    <tr style=\"text-align: right;\">\n",
       "      <th></th>\n",
       "      <th>mpg</th>\n",
       "      <th>cylinders</th>\n",
       "      <th>displacement</th>\n",
       "      <th>horsepower</th>\n",
       "      <th>weight</th>\n",
       "      <th>acceleration</th>\n",
       "      <th>model_year</th>\n",
       "      <th>origin</th>\n",
       "      <th>name</th>\n",
       "    </tr>\n",
       "  </thead>\n",
       "  <tbody>\n",
       "    <tr>\n",
       "      <th>0</th>\n",
       "      <td>18.0</td>\n",
       "      <td>8</td>\n",
       "      <td>307.0</td>\n",
       "      <td>130.0</td>\n",
       "      <td>3504</td>\n",
       "      <td>12.0</td>\n",
       "      <td>70</td>\n",
       "      <td>usa</td>\n",
       "      <td>chevrolet chevelle malibu</td>\n",
       "    </tr>\n",
       "    <tr>\n",
       "      <th>1</th>\n",
       "      <td>15.0</td>\n",
       "      <td>8</td>\n",
       "      <td>350.0</td>\n",
       "      <td>165.0</td>\n",
       "      <td>3693</td>\n",
       "      <td>11.5</td>\n",
       "      <td>70</td>\n",
       "      <td>usa</td>\n",
       "      <td>buick skylark 320</td>\n",
       "    </tr>\n",
       "    <tr>\n",
       "      <th>2</th>\n",
       "      <td>18.0</td>\n",
       "      <td>8</td>\n",
       "      <td>318.0</td>\n",
       "      <td>150.0</td>\n",
       "      <td>3436</td>\n",
       "      <td>11.0</td>\n",
       "      <td>70</td>\n",
       "      <td>usa</td>\n",
       "      <td>plymouth satellite</td>\n",
       "    </tr>\n",
       "    <tr>\n",
       "      <th>3</th>\n",
       "      <td>16.0</td>\n",
       "      <td>8</td>\n",
       "      <td>304.0</td>\n",
       "      <td>150.0</td>\n",
       "      <td>3433</td>\n",
       "      <td>12.0</td>\n",
       "      <td>70</td>\n",
       "      <td>usa</td>\n",
       "      <td>amc rebel sst</td>\n",
       "    </tr>\n",
       "    <tr>\n",
       "      <th>4</th>\n",
       "      <td>17.0</td>\n",
       "      <td>8</td>\n",
       "      <td>302.0</td>\n",
       "      <td>140.0</td>\n",
       "      <td>3449</td>\n",
       "      <td>10.5</td>\n",
       "      <td>70</td>\n",
       "      <td>usa</td>\n",
       "      <td>ford torino</td>\n",
       "    </tr>\n",
       "    <tr>\n",
       "      <th>...</th>\n",
       "      <td>...</td>\n",
       "      <td>...</td>\n",
       "      <td>...</td>\n",
       "      <td>...</td>\n",
       "      <td>...</td>\n",
       "      <td>...</td>\n",
       "      <td>...</td>\n",
       "      <td>...</td>\n",
       "      <td>...</td>\n",
       "    </tr>\n",
       "    <tr>\n",
       "      <th>393</th>\n",
       "      <td>27.0</td>\n",
       "      <td>4</td>\n",
       "      <td>140.0</td>\n",
       "      <td>86.0</td>\n",
       "      <td>2790</td>\n",
       "      <td>15.6</td>\n",
       "      <td>82</td>\n",
       "      <td>usa</td>\n",
       "      <td>ford mustang gl</td>\n",
       "    </tr>\n",
       "    <tr>\n",
       "      <th>394</th>\n",
       "      <td>44.0</td>\n",
       "      <td>4</td>\n",
       "      <td>97.0</td>\n",
       "      <td>52.0</td>\n",
       "      <td>2130</td>\n",
       "      <td>24.6</td>\n",
       "      <td>82</td>\n",
       "      <td>europe</td>\n",
       "      <td>vw pickup</td>\n",
       "    </tr>\n",
       "    <tr>\n",
       "      <th>395</th>\n",
       "      <td>32.0</td>\n",
       "      <td>4</td>\n",
       "      <td>135.0</td>\n",
       "      <td>84.0</td>\n",
       "      <td>2295</td>\n",
       "      <td>11.6</td>\n",
       "      <td>82</td>\n",
       "      <td>usa</td>\n",
       "      <td>dodge rampage</td>\n",
       "    </tr>\n",
       "    <tr>\n",
       "      <th>396</th>\n",
       "      <td>28.0</td>\n",
       "      <td>4</td>\n",
       "      <td>120.0</td>\n",
       "      <td>79.0</td>\n",
       "      <td>2625</td>\n",
       "      <td>18.6</td>\n",
       "      <td>82</td>\n",
       "      <td>usa</td>\n",
       "      <td>ford ranger</td>\n",
       "    </tr>\n",
       "    <tr>\n",
       "      <th>397</th>\n",
       "      <td>31.0</td>\n",
       "      <td>4</td>\n",
       "      <td>119.0</td>\n",
       "      <td>82.0</td>\n",
       "      <td>2720</td>\n",
       "      <td>19.4</td>\n",
       "      <td>82</td>\n",
       "      <td>usa</td>\n",
       "      <td>chevy s-10</td>\n",
       "    </tr>\n",
       "  </tbody>\n",
       "</table>\n",
       "<p>398 rows × 9 columns</p>\n",
       "</div>"
      ],
      "text/plain": [
       "      mpg  cylinders  displacement  horsepower  weight  acceleration  \\\n",
       "0    18.0          8         307.0       130.0    3504          12.0   \n",
       "1    15.0          8         350.0       165.0    3693          11.5   \n",
       "2    18.0          8         318.0       150.0    3436          11.0   \n",
       "3    16.0          8         304.0       150.0    3433          12.0   \n",
       "4    17.0          8         302.0       140.0    3449          10.5   \n",
       "..    ...        ...           ...         ...     ...           ...   \n",
       "393  27.0          4         140.0        86.0    2790          15.6   \n",
       "394  44.0          4          97.0        52.0    2130          24.6   \n",
       "395  32.0          4         135.0        84.0    2295          11.6   \n",
       "396  28.0          4         120.0        79.0    2625          18.6   \n",
       "397  31.0          4         119.0        82.0    2720          19.4   \n",
       "\n",
       "     model_year  origin                       name  \n",
       "0            70     usa  chevrolet chevelle malibu  \n",
       "1            70     usa          buick skylark 320  \n",
       "2            70     usa         plymouth satellite  \n",
       "3            70     usa              amc rebel sst  \n",
       "4            70     usa                ford torino  \n",
       "..          ...     ...                        ...  \n",
       "393          82     usa            ford mustang gl  \n",
       "394          82  europe                  vw pickup  \n",
       "395          82     usa              dodge rampage  \n",
       "396          82     usa                ford ranger  \n",
       "397          82     usa                 chevy s-10  \n",
       "\n",
       "[398 rows x 9 columns]"
      ]
     },
     "execution_count": 31,
     "metadata": {},
     "output_type": "execute_result"
    }
   ],
   "source": [
    "import pandas as pd\n",
    "import numpy as np\n",
    "df=pd.read_csv(r\"C:\\Users\\arunj\\Desktop\\VIT AP\\FDS LAB\\upload_c57a05fe-0da5-470b-adbe-6d0ddab7609c.csv\")\n",
    "df"
   ]
  },
  {
   "cell_type": "code",
   "execution_count": 34,
   "metadata": {},
   "outputs": [
    {
     "data": {
      "text/plain": [
       "9.0"
      ]
     },
     "execution_count": 34,
     "metadata": {},
     "output_type": "execute_result"
    }
   ],
   "source": [
    "df[\"mpg\"].min()\n"
   ]
  },
  {
   "cell_type": "code",
   "execution_count": 35,
   "metadata": {},
   "outputs": [
    {
     "data": {
      "text/plain": [
       "46.6"
      ]
     },
     "execution_count": 35,
     "metadata": {},
     "output_type": "execute_result"
    }
   ],
   "source": [
    "df[\"mpg\"].max()"
   ]
  }
 ],
 "metadata": {
  "kernelspec": {
   "display_name": "Python 3 (ipykernel)",
   "language": "python",
   "name": "python3"
  },
  "language_info": {
   "codemirror_mode": {
    "name": "ipython",
    "version": 3
   },
   "file_extension": ".py",
   "mimetype": "text/x-python",
   "name": "python",
   "nbconvert_exporter": "python",
   "pygments_lexer": "ipython3",
   "version": "3.9.13"
  }
 },
 "nbformat": 4,
 "nbformat_minor": 4
}
